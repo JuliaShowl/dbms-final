{
 "cells": [
  {
   "cell_type": "code",
   "execution_count": 11,
   "id": "d99c47b2-d4bd-4365-aab3-0104dd8ff0e5",
   "metadata": {},
   "outputs": [],
   "source": [
    "import json\n",
    "from pymongo import MongoClient , InsertOne\n",
    "  \n",
    "## Create connection\n",
    "client = MongoClient(\"mongodb://localhost:27017/\") \n",
    "\n",
    "db = client[\"CSCI_3907_Final_Project\"]\n",
    "coll = db[\"reviews\"]\n",
    "requesting = []"
   ]
  },
  {
   "cell_type": "code",
   "execution_count": 10,
   "id": "e255f7aa-4eac-4ba9-9afa-8763bcea555d",
   "metadata": {},
   "outputs": [],
   "source": [
    "## Insert\n",
    "with open('data/kindle_reviews.json') as f:\n",
    "    for jsonObj in f:\n",
    "        myDict = json.loads(jsonObj)\n",
    "        requesting.append(InsertOne(myDict))\n",
    "\n",
    "result = coll.bulk_write(requesting)\n",
    "client.close()"
   ]
  }
 ],
 "metadata": {
  "kernelspec": {
   "display_name": "Python 3 (ipykernel)",
   "language": "python",
   "name": "python3"
  },
  "language_info": {
   "codemirror_mode": {
    "name": "ipython",
    "version": 3
   },
   "file_extension": ".py",
   "mimetype": "text/x-python",
   "name": "python",
   "nbconvert_exporter": "python",
   "pygments_lexer": "ipython3",
   "version": "3.9.7"
  }
 },
 "nbformat": 4,
 "nbformat_minor": 5
}
