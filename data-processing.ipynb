{
 "cells": [
  {
   "cell_type": "code",
   "execution_count": 21,
   "id": "e1a3e0e5-6393-4c24-b10a-5ef243c8b593",
   "metadata": {},
   "outputs": [],
   "source": [
    "import json\n",
    "import psycopg2\n",
    "from datetime import datetime"
   ]
  },
  {
   "cell_type": "code",
   "execution_count": 6,
   "id": "fcd7e68d-1afb-4b1f-a482-ce22e6df5426",
   "metadata": {},
   "outputs": [],
   "source": [
    "## Set up connection\n",
    "connection = psycopg2.connect(host='localhost',\n",
    "                             user='postgres',\n",
    "                             port=5432,\n",
    "                             database=\"CSCI 3907 Final Project\",\n",
    "                             password='postgres')\n",
    "\n",
    "connection.set_session(autocommit=True)\n",
    "\n",
    "cur = connection.cursor()"
   ]
  },
  {
   "cell_type": "code",
   "execution_count": 15,
   "id": "47a8d354-7164-417f-9dc5-f79c04b0f883",
   "metadata": {},
   "outputs": [
    {
     "name": "stdout",
     "output_type": "stream",
     "text": [
      "{'reviewerID': 'A1F6404F1VG29J', 'asin': 'B000F83SZQ', 'reviewerName': 'Avidreader', 'helpful': [0, 0], 'reviewText': \"I enjoy vintage books and movies so I enjoyed reading this book.  The plot was unusual.  Don't think killing someone in self-defense but leaving the scene and the body without notifying the police or hitting someone in the jaw to knock them out would wash today.Still it was a good read for me.\", 'overall': 5.0, 'summary': 'Nice vintage story', 'unixReviewTime': 1399248000, 'reviewTime': '05 5, 2014'}\n",
      "[('A1F6404F1VG29J', 'Avidreader')]\n",
      "[]\n"
     ]
    }
   ],
   "source": [
    "## Read from file\n",
    "with open('data/kindle_reviews.json') as f:\n",
    "    data = [json.loads(line) for line in f]\n",
    "\n",
    "## Insertion from file\n",
    "print(data[0])\n",
    "query = \"INSERT INTO users VALUES (%s, %s)\"\n",
    "cur.execute(query, (data[0]['reviewerID'],data[0]['reviewerName']))\n",
    "connection.commit()\n",
    "\n",
    "cur.execute(\"SELECT * FROM users\")\n",
    "result = cur.fetchall()\n",
    "print(result)\n",
    "\n",
    "cur.execute(\"DELETE FROM users WHERE uid=%s\",(data[0]['reviewerID'],))\n",
    "\n",
    "cur.execute(\"SELECT * FROM users\")\n",
    "result = cur.fetchall()\n",
    "print(result)"
   ]
  },
  {
   "cell_type": "code",
   "execution_count": 51,
   "id": "39d524c5-97bf-4ecc-be70-cca6882c9da4",
   "metadata": {},
   "outputs": [],
   "source": [
    "## Queries\n",
    "## These check for duplicate key entries using 'on conflict'\n",
    "users_query = \"INSERT INTO users VALUES (%s, %s) ON CONFLICT DO NOTHING\"\n",
    "prods_query = \"INSERT INTO products VALUES (%s) ON CONFLICT DO NOTHING\"\n",
    "reviews_query = \"INSERT INTO reviews VALUES (%s, %s, %s, %s, %s, %s, %s, %s) ON CONFLICT DO NOTHING\"\n",
    "\n",
    "## Insert all data\n",
    "for i in range(len(data)):\n",
    "    uid = data[i]['reviewerID']\n",
    "    pid = data[i]['asin']\n",
    "    \n",
    "    ## Some records don't have names replace with null\n",
    "    try:\n",
    "        name = data[i]['reviewerName']\n",
    "    except KeyError:\n",
    "        name = None\n",
    "        \n",
    "    posHelpful = data[i]['helpful'][0]\n",
    "    negHelpful = data[i]['helpful'][1]\n",
    "    \n",
    "    ## Some records have null characters replace with blank\n",
    "    text = data[i]['reviewText']\n",
    "    text = str.replace(text, \"\\u0000\", \"\", -1)\n",
    "    \n",
    "    rating = data[i]['overall']\n",
    "    summary = data[i]['summary']\n",
    "    time_str = data[i]['reviewTime']\n",
    "    time = datetime.strptime(time_str, '%m %d, %Y').date()\n",
    "        \n",
    "    cur.execute(users_query, (uid, name))\n",
    "    connection.commit()\n",
    "    cur.execute(prods_query, (pid,))\n",
    "    connection.commit()\n",
    "    cur.execute(reviews_query, (uid, pid, text, summary, rating, posHelpful, negHelpful, time))\n",
    "    connection.commit()"
   ]
  }
 ],
 "metadata": {
  "kernelspec": {
   "display_name": "Python 3 (ipykernel)",
   "language": "python",
   "name": "python3"
  },
  "language_info": {
   "codemirror_mode": {
    "name": "ipython",
    "version": 3
   },
   "file_extension": ".py",
   "mimetype": "text/x-python",
   "name": "python",
   "nbconvert_exporter": "python",
   "pygments_lexer": "ipython3",
   "version": "3.9.7"
  }
 },
 "nbformat": 4,
 "nbformat_minor": 5
}
